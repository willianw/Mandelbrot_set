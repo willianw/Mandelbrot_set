{
 "cells": [
  {
   "cell_type": "code",
   "execution_count": 40,
   "metadata": {},
   "outputs": [
    {
     "data": {
      "text/plain": [
       "10000"
      ]
     },
     "execution_count": 40,
     "metadata": {},
     "output_type": "execute_result"
    }
   ],
   "source": [
    "SIZE=2000\n",
    "SCALE = 1023\n",
    "MAX_I = 100"
   ]
  },
  {
   "cell_type": "code",
   "execution_count": 49,
   "metadata": {},
   "outputs": [
    {
     "name": "stdout",
     "output_type": "stream",
     "text": [
      "  0.000006 seconds (4 allocations: 160 bytes)\n",
      "  0.000023 seconds (15 allocations: 672 bytes)\n"
     ]
    }
   ],
   "source": [
    "f = open(\"mandelbrot.pgm\", \"w\")\n",
    "write(f, \"P2\\n\")\n",
    "write(f, \"$SIZE $SIZE\\n\")\n",
    "write(f, \"$SCALE\\n\")\n",
    "close(f)"
   ]
  },
  {
   "cell_type": "code",
   "execution_count": 51,
   "metadata": {},
   "outputs": [],
   "source": [
    "function converge(x)\n",
    "\tn = z = 0\n",
    "\twhile (n < MAX_I) & (abs(z) < 2)\n",
    "\t\tz = z*z + x\n",
    "\t\tn = n + 1\n",
    "\tend\n",
    "\treturn round(Int, float(n*SCALE)/MAX_I)\n",
    "end;"
   ]
  },
  {
   "cell_type": "code",
   "execution_count": 52,
   "metadata": {},
   "outputs": [
    {
     "name": "stdout",
     "output_type": "stream",
     "text": [
      "  7.697437 seconds (60.44 M allocations: 1.169 GB, 52.66% gc time)\n",
      "1442.669433 seconds (15.11 G allocations: 397.351 GB, 45.98% gc time)\n"
     ]
    }
   ],
   "source": [
    "@time m = [complex(-2 + float(2*2*y)/SIZE, 2 - float(2*2*x)/SIZE) for x in 1:SIZE, y in 1:SIZE]\n",
    "\n",
    "@time a = reshape(pmap(converge, m), SIZE, SIZE);"
   ]
  },
  {
   "cell_type": "code",
   "execution_count": 53,
   "metadata": {},
   "outputs": [],
   "source": [
    "writecsv(\"image.pgm\", a);"
   ]
  },
  {
   "cell_type": "code",
   "execution_count": 54,
   "metadata": {},
   "outputs": [],
   "source": [
    "run(pipeline(`cat image.pgm`, stdout=\"mandelbrot.pgm\", append=true));"
   ]
  },
  {
   "cell_type": "code",
   "execution_count": null,
   "metadata": {},
   "outputs": [],
   "source": []
  }
 ],
 "metadata": {
  "kernelspec": {
   "display_name": "Julia 0.4.5",
   "language": "julia",
   "name": "julia-0.4"
  },
  "language_info": {
   "file_extension": ".jl",
   "mimetype": "application/julia",
   "name": "julia",
   "version": "0.4.5"
  }
 },
 "nbformat": 4,
 "nbformat_minor": 2
}
